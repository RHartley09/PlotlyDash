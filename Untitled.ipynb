{
 "cells": [
  {
   "cell_type": "code",
   "execution_count": 4,
   "metadata": {},
   "outputs": [],
   "source": [
    "# import pandas as pd \n",
    "# import dash pip install dash\n",
    "# import dash_core_components as dcc\n",
    "# import dash_html_components as html\n",
    "# from dash.dependencies import Input, Output"
   ]
  },
  {
   "cell_type": "code",
   "execution_count": 1,
   "metadata": {},
   "outputs": [
    {
     "name": "stdout",
     "output_type": "stream",
     "text": [
      "Requirement already satisfied: jupyter-dash in c:\\users\\rober\\anaconda3\\lib\\site-packages (0.3.1)\n",
      "Requirement already satisfied: flask in c:\\users\\rober\\anaconda3\\lib\\site-packages (from jupyter-dash) (1.1.1)\n",
      "Requirement already satisfied: dash in c:\\users\\rober\\anaconda3\\lib\\site-packages (from jupyter-dash) (1.18.1)\n",
      "Requirement already satisfied: requests in c:\\users\\rober\\anaconda3\\lib\\site-packages (from jupyter-dash) (2.22.0)\n",
      "Requirement already satisfied: ipython in c:\\users\\rober\\anaconda3\\lib\\site-packages (from jupyter-dash) (7.12.0)\n",
      "Requirement already satisfied: retrying in c:\\users\\rober\\anaconda3\\lib\\site-packages (from jupyter-dash) (1.3.3)\n",
      "Requirement already satisfied: ipykernel in c:\\users\\rober\\anaconda3\\lib\\site-packages (from jupyter-dash) (5.1.4)\n",
      "Requirement already satisfied: ansi2html in c:\\users\\rober\\anaconda3\\lib\\site-packages (from jupyter-dash) (1.6.0)\n",
      "Requirement already satisfied: click>=5.1 in c:\\users\\rober\\anaconda3\\lib\\site-packages (from flask->jupyter-dash) (7.0)\n",
      "Requirement already satisfied: Werkzeug>=0.15 in c:\\users\\rober\\anaconda3\\lib\\site-packages (from flask->jupyter-dash) (1.0.0)\n",
      "Requirement already satisfied: itsdangerous>=0.24 in c:\\users\\rober\\anaconda3\\lib\\site-packages (from flask->jupyter-dash) (1.1.0)\n",
      "Requirement already satisfied: Jinja2>=2.10.1 in c:\\users\\rober\\anaconda3\\lib\\site-packages (from flask->jupyter-dash) (2.11.1)\n",
      "Requirement already satisfied: dash-html-components==1.1.1 in c:\\users\\rober\\anaconda3\\lib\\site-packages (from dash->jupyter-dash) (1.1.1)\n",
      "Requirement already satisfied: plotly in c:\\users\\rober\\anaconda3\\lib\\site-packages (from dash->jupyter-dash) (5.3.0)\n",
      "Requirement already satisfied: flask-compress in c:\\users\\rober\\anaconda3\\lib\\site-packages (from dash->jupyter-dash) (1.8.0)\n",
      "Requirement already satisfied: dash-table==4.11.1 in c:\\users\\rober\\anaconda3\\lib\\site-packages (from dash->jupyter-dash) (4.11.1)\n",
      "Requirement already satisfied: dash-core-components==1.14.1 in c:\\users\\rober\\anaconda3\\lib\\site-packages (from dash->jupyter-dash) (1.14.1)\n",
      "Requirement already satisfied: future in c:\\users\\rober\\anaconda3\\lib\\site-packages (from dash->jupyter-dash) (0.18.2)\n",
      "Requirement already satisfied: dash-renderer==1.8.3 in c:\\users\\rober\\anaconda3\\lib\\site-packages (from dash->jupyter-dash) (1.8.3)\n",
      "Requirement already satisfied: urllib3!=1.25.0,!=1.25.1,<1.26,>=1.21.1 in c:\\users\\rober\\anaconda3\\lib\\site-packages (from requests->jupyter-dash) (1.25.8)\n",
      "Requirement already satisfied: idna<2.9,>=2.5 in c:\\users\\rober\\anaconda3\\lib\\site-packages (from requests->jupyter-dash) (2.8)\n",
      "Requirement already satisfied: chardet<3.1.0,>=3.0.2 in c:\\users\\rober\\anaconda3\\lib\\site-packages (from requests->jupyter-dash) (3.0.4)\n",
      "Requirement already satisfied: certifi>=2017.4.17 in c:\\users\\rober\\anaconda3\\lib\\site-packages (from requests->jupyter-dash) (2019.11.28)\n",
      "Requirement already satisfied: prompt-toolkit!=3.0.0,!=3.0.1,<3.1.0,>=2.0.0 in c:\\users\\rober\\anaconda3\\lib\\site-packages (from ipython->jupyter-dash) (3.0.3)\n",
      "Requirement already satisfied: setuptools>=18.5 in c:\\users\\rober\\anaconda3\\lib\\site-packages (from ipython->jupyter-dash) (45.2.0.post20200210)\n",
      "Requirement already satisfied: colorama; sys_platform == \"win32\" in c:\\users\\rober\\anaconda3\\lib\\site-packages (from ipython->jupyter-dash) (0.4.3)\n",
      "Requirement already satisfied: pickleshare in c:\\users\\rober\\anaconda3\\lib\\site-packages (from ipython->jupyter-dash) (0.7.5)\n",
      "Requirement already satisfied: pygments in c:\\users\\rober\\anaconda3\\lib\\site-packages (from ipython->jupyter-dash) (2.5.2)\n",
      "Requirement already satisfied: traitlets>=4.2 in c:\\users\\rober\\anaconda3\\lib\\site-packages (from ipython->jupyter-dash) (4.3.3)\n",
      "Requirement already satisfied: jedi>=0.10 in c:\\users\\rober\\anaconda3\\lib\\site-packages (from ipython->jupyter-dash) (0.14.1)\n",
      "Requirement already satisfied: decorator in c:\\users\\rober\\anaconda3\\lib\\site-packages (from ipython->jupyter-dash) (4.4.1)\n",
      "Requirement already satisfied: backcall in c:\\users\\rober\\anaconda3\\lib\\site-packages (from ipython->jupyter-dash) (0.1.0)\n",
      "Requirement already satisfied: six>=1.7.0 in c:\\users\\rober\\anaconda3\\lib\\site-packages (from retrying->jupyter-dash) (1.14.0)\n",
      "Requirement already satisfied: tornado>=4.2 in c:\\users\\rober\\anaconda3\\lib\\site-packages (from ipykernel->jupyter-dash) (6.1)\n",
      "Requirement already satisfied: jupyter-client in c:\\users\\rober\\anaconda3\\lib\\site-packages (from ipykernel->jupyter-dash) (7.1.0)\n",
      "Requirement already satisfied: MarkupSafe>=0.23 in c:\\users\\rober\\anaconda3\\lib\\site-packages (from Jinja2>=2.10.1->flask->jupyter-dash) (1.1.1)\n",
      "Requirement already satisfied: tenacity>=6.2.0 in c:\\users\\rober\\anaconda3\\lib\\site-packages (from plotly->dash->jupyter-dash) (8.0.1)\n",
      "Requirement already satisfied: brotli in c:\\users\\rober\\anaconda3\\lib\\site-packages (from flask-compress->dash->jupyter-dash) (1.0.9)\n",
      "Requirement already satisfied: wcwidth in c:\\users\\rober\\anaconda3\\lib\\site-packages (from prompt-toolkit!=3.0.0,!=3.0.1,<3.1.0,>=2.0.0->ipython->jupyter-dash) (0.1.8)\n",
      "Requirement already satisfied: ipython-genutils in c:\\users\\rober\\anaconda3\\lib\\site-packages (from traitlets>=4.2->ipython->jupyter-dash) (0.2.0)\n",
      "Requirement already satisfied: parso>=0.5.0 in c:\\users\\rober\\anaconda3\\lib\\site-packages (from jedi>=0.10->ipython->jupyter-dash) (0.5.2)\n",
      "Requirement already satisfied: pyzmq>=13 in c:\\users\\rober\\anaconda3\\lib\\site-packages (from jupyter-client->ipykernel->jupyter-dash) (18.1.1)\n",
      "Requirement already satisfied: nest-asyncio>=1.5 in c:\\users\\rober\\anaconda3\\lib\\site-packages (from jupyter-client->ipykernel->jupyter-dash) (1.5.4)\n",
      "Requirement already satisfied: python-dateutil>=2.1 in c:\\users\\rober\\anaconda3\\lib\\site-packages (from jupyter-client->ipykernel->jupyter-dash) (2.8.1)\n",
      "Requirement already satisfied: jupyter-core>=4.6.0 in c:\\users\\rober\\anaconda3\\lib\\site-packages (from jupyter-client->ipykernel->jupyter-dash) (4.6.1)\n",
      "Requirement already satisfied: entrypoints in c:\\users\\rober\\anaconda3\\lib\\site-packages (from jupyter-client->ipykernel->jupyter-dash) (0.3)\n",
      "Requirement already satisfied: pywin32>=1.0; sys_platform == \"win32\" in c:\\users\\rober\\anaconda3\\lib\\site-packages (from jupyter-core>=4.6.0->jupyter-client->ipykernel->jupyter-dash) (227)\n",
      "Note: you may need to restart the kernel to use updated packages.\n"
     ]
    }
   ],
   "source": [
    "pip install dash==2.1.0"
   ]
  },
  {
   "cell_type": "code",
   "execution_count": 2,
   "metadata": {},
   "outputs": [
    {
     "ename": "ModuleNotFoundError",
     "evalue": "No module named 'dash'",
     "output_type": "error",
     "traceback": [
      "\u001b[1;31m---------------------------------------------------------------------------\u001b[0m",
      "\u001b[1;31mModuleNotFoundError\u001b[0m                       Traceback (most recent call last)",
      "\u001b[1;32m<ipython-input-2-4424d8396680>\u001b[0m in \u001b[0;36m<module>\u001b[1;34m\u001b[0m\n\u001b[0;32m      1\u001b[0m \u001b[1;32mimport\u001b[0m \u001b[0mpandas\u001b[0m \u001b[1;32mas\u001b[0m \u001b[0mpd\u001b[0m\u001b[1;33m\u001b[0m\u001b[1;33m\u001b[0m\u001b[0m\n\u001b[1;32m----> 2\u001b[1;33m \u001b[1;32mimport\u001b[0m \u001b[0mdash\u001b[0m\u001b[1;33m\u001b[0m\u001b[1;33m\u001b[0m\u001b[0m\n\u001b[0m\u001b[0;32m      3\u001b[0m \u001b[1;32mimport\u001b[0m \u001b[0mdash_core_components\u001b[0m \u001b[1;32mas\u001b[0m \u001b[0mdcc\u001b[0m\u001b[1;33m\u001b[0m\u001b[1;33m\u001b[0m\u001b[0m\n\u001b[0;32m      4\u001b[0m \u001b[1;32mimport\u001b[0m \u001b[0mdash_html_components\u001b[0m \u001b[1;32mas\u001b[0m \u001b[0mhtml\u001b[0m\u001b[1;33m\u001b[0m\u001b[1;33m\u001b[0m\u001b[0m\n\u001b[0;32m      5\u001b[0m \u001b[1;32mfrom\u001b[0m \u001b[0mdash\u001b[0m\u001b[1;33m.\u001b[0m\u001b[0mdependencies\u001b[0m \u001b[1;32mimport\u001b[0m \u001b[0mInput\u001b[0m\u001b[1;33m,\u001b[0m \u001b[0mOutput\u001b[0m\u001b[1;33m\u001b[0m\u001b[1;33m\u001b[0m\u001b[0m\n",
      "\u001b[1;31mModuleNotFoundError\u001b[0m: No module named 'dash'"
     ]
    }
   ],
   "source": [
    "import pandas as pd\n",
    "import dash \n",
    "import dash_core_components as dcc\n",
    "import dash_html_components as html\n",
    "from dash.dependencies import Input, Output"
   ]
  },
  {
   "cell_type": "code",
   "execution_count": null,
   "metadata": {},
   "outputs": [],
   "source": []
  }
 ],
 "metadata": {
  "kernelspec": {
   "display_name": "Python 3",
   "language": "python",
   "name": "python3"
  },
  "language_info": {
   "codemirror_mode": {
    "name": "ipython",
    "version": 3
   },
   "file_extension": ".py",
   "mimetype": "text/x-python",
   "name": "python",
   "nbconvert_exporter": "python",
   "pygments_lexer": "ipython3",
   "version": "3.7.6"
  }
 },
 "nbformat": 4,
 "nbformat_minor": 4
}
